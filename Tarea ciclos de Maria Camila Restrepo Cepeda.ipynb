{
 "cells": [
  {
   "cell_type": "code",
   "execution_count": 3,
   "id": "293e86c2-addc-493b-a164-d4eff53d06ad",
   "metadata": {},
   "outputs": [
    {
     "name": "stdin",
     "output_type": "stream",
     "text": [
      "ingrese un primer número:  4\n",
      "ingrese el segundo número:  3\n"
     ]
    },
    {
     "name": "stdout",
     "output_type": "stream",
     "text": [
      " el reultado de la multiplicación es : 12\n"
     ]
    }
   ],
   "source": [
    "a= int(input(\"ingrese un primer número: \"))\n",
    "b= int(input(\"ingrese el segundo número: \"))\n",
    "\n",
    "c= 0\n",
    "contador= 0 \n",
    "\n",
    "while contador<b:\n",
    "    c += a\n",
    "    contador +=1 \n",
    "print(f\" el reultado de la multiplicación es : {c}\")"
   ]
  },
  {
   "cell_type": "code",
   "execution_count": 5,
   "id": "09a09cca-b408-43b7-9b5a-c1b98b05453b",
   "metadata": {},
   "outputs": [
    {
     "name": "stdin",
     "output_type": "stream",
     "text": [
      "ingrese el número de notas como número:  3\n",
      "ingrese la nota 1 ( de 0 a 5):  2.5\n",
      "ingrese la nota 2 ( de 0 a 5):  3\n",
      "ingrese la nota 3 ( de 0 a 5):  5\n"
     ]
    },
    {
     "name": "stdout",
     "output_type": "stream",
     "text": [
      "Su promedio es: 3.500\n"
     ]
    }
   ],
   "source": [
    "a=int(input(\"ingrese el número de notas como número: \")) \n",
    "\n",
    "b=0 \n",
    "c=0 \n",
    "\n",
    "while c < a: \n",
    "    nota= float(input(f\"ingrese la nota {c+1} ( de 0 a 5): \"))\n",
    "    \n",
    "    if 0<= nota <=5:\n",
    "        b += nota\n",
    "        c+=1\n",
    "    else: \n",
    "        print(\"recuerda que la nota debe estar entre 0 y 5 . Ingresela nuevamente\")\n",
    "        \n",
    "p= b/ a \n",
    "print(f\"Su promedio es: {p:.3f}\")"
   ]
  },
  {
   "cell_type": "code",
   "execution_count": 6,
   "id": "01fd90bf-6449-4773-ab8e-14dd1086ffe1",
   "metadata": {},
   "outputs": [
    {
     "name": "stdin",
     "output_type": "stream",
     "text": [
      "ingrese la base de la potencia:  4\n",
      "ingrese el exponente de la potencia:  3\n"
     ]
    },
    {
     "name": "stdout",
     "output_type": "stream",
     "text": [
      "1\n",
      "4\n",
      "16\n",
      "64\n"
     ]
    }
   ],
   "source": [
    "n= int(input(\"ingrese la base de la potencia (0-9): \"))\n",
    "x= int(input(\"ingrese el exponente de la potencia(0-9): \")) \n",
    "\n",
    "if 0<= n <=9 and 0<= x <= 9: \n",
    "    z=0 \n",
    "    while z<= x:\n",
    "        resultado = n**z\n",
    "        print(n**z) \n",
    "        \n",
    "        z+=1 "
   ]
  },
  {
   "cell_type": "code",
   "execution_count": 5,
   "id": "f2c22be8-8035-40b2-8bec-190ab3d3530d",
   "metadata": {},
   "outputs": [
    {
     "name": "stdin",
     "output_type": "stream",
     "text": [
      " ingrese hasta que número quiere encontrar la suma de los impares:  10\n"
     ]
    },
    {
     "name": "stdout",
     "output_type": "stream",
     "text": [
      "La suma de los impares entre 1 y 10 es: 25\n"
     ]
    }
   ],
   "source": [
    "n= int(input(\" ingrese hasta que número quiere encontrar la suma de los impares: \")) \n",
    "\n",
    "a=0 \n",
    "b=1\n",
    "\n",
    "while b<= n: \n",
    "    a+= b \n",
    "    b+=2 \n",
    "\n",
    "print(f\"La suma de los impares entre 1 y {n} es: {a}\")"
   ]
  },
  {
   "cell_type": "code",
   "execution_count": 3,
   "id": "3d68228d-6a36-443e-9735-a7aecd10ff4a",
   "metadata": {},
   "outputs": [
    {
     "name": "stdin",
     "output_type": "stream",
     "text": [
      "ingrese un número entre 0 y 20:  7\n"
     ]
    },
    {
     "name": "stdout",
     "output_type": "stream",
     "text": [
      "el facotial de 7 es: 5040\n"
     ]
    }
   ],
   "source": [
    "n= int(input(\"ingrese un número entre 0 y 20: \" ))\n",
    "z=1 \n",
    "resultado= 1\n",
    "\n",
    "while z<=n: \n",
    "    resultado *= z\n",
    "    z+=1 \n",
    "print(f\"el facotial de {n} es: {resultado}\") "
   ]
  },
  {
   "cell_type": "code",
   "execution_count": 4,
   "id": "a720576d-c077-40e1-962b-5a523b1acfc8",
   "metadata": {},
   "outputs": [
    {
     "name": "stdin",
     "output_type": "stream",
     "text": [
      "entero: 4\n",
      "cantidad de sumas: 3\n"
     ]
    },
    {
     "name": "stdout",
     "output_type": "stream",
     "text": [
      "el resultado de su suma con 3 y 4 es : 0.328125\n"
     ]
    }
   ],
   "source": [
    "a= int(input(\"entero:\")) \n",
    "n= int(input(\"cantidad de sumas:\"))\n",
    "i=1 \n",
    "suma= 0 \n",
    "while i<=n: \n",
    "    suma +=(1/a)**i\n",
    "    i+=1 \n",
    "print(f\"el resultado de su suma con {n} y {a} es : {suma}\") "
   ]
  }
 ],
 "metadata": {
  "kernelspec": {
   "display_name": "Python 3 (ipykernel)",
   "language": "python",
   "name": "python3"
  },
  "language_info": {
   "codemirror_mode": {
    "name": "ipython",
    "version": 3
   },
   "file_extension": ".py",
   "mimetype": "text/x-python",
   "name": "python",
   "nbconvert_exporter": "python",
   "pygments_lexer": "ipython3",
   "version": "3.12.4"
  }
 },
 "nbformat": 4,
 "nbformat_minor": 5
}
